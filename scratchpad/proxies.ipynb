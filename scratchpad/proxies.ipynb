{
 "cells": [
  {
   "cell_type": "markdown",
   "metadata": {},
   "source": [
    "# Playground for Proxies"
   ]
  },
  {
   "cell_type": "code",
   "execution_count": null,
   "metadata": {},
   "outputs": [],
   "source": [
    "import json\n",
    "import countryflag\n",
    "import requests\n",
    "import pandas as pd\n",
    "from io import StringIO\n",
    "PROXYSCRAPE_URL = 'https://api.proxyscrape.com/v2/'"
   ]
  },
  {
   "cell_type": "code",
   "execution_count": null,
   "metadata": {},
   "outputs": [],
   "source": [
    "headers = {\n",
    "    'User-Agent': 'Mozilla/5.0 (Windows NT 10.0; Win64; x64; rv:123.0) Gecko/20100101 Firefox/123.0',\n",
    "    'Accept': 'text/html,application/xhtml+xml,application/xml;q=0.9,image/avif,image/webp,*/*;q=0.8',\n",
    "    'Accept-Language': 'de',\n",
    "    'Referer': 'https://free-proxy-list.net/',\n",
    "    'Connection': 'keep-alive',\n",
    "    'Upgrade-Insecure-Requests': '1',\n",
    "    'Sec-Fetch-Dest': 'document',\n",
    "    'Sec-Fetch-Mode': 'navigate',\n",
    "    'Sec-Fetch-Site': 'cross-site',\n",
    "    'Sec-Fetch-User': '?1',\n",
    "    'DNT': '1',\n",
    "    'Sec-GPC': '1',\n",
    "}"
   ]
  },
  {
   "cell_type": "code",
   "execution_count": null,
   "metadata": {},
   "outputs": [],
   "source": [
    "def write_dict_to_json_file(data: dict, filename: str):\n",
    "    with open(filename, mode='w', encoding='utf-8') as f:\n",
    "        json.dump(data, f, indent=4)"
   ]
  },
  {
   "cell_type": "code",
   "execution_count": null,
   "metadata": {},
   "outputs": [],
   "source": [
    "def write_list_to_txt_file(data: list, filename: str):\n",
    "    with open(filename, mode='w', encoding='utf-8') as f:\n",
    "        text = '\\n'.join(data)\n",
    "        f.write(text)"
   ]
  },
  {
   "cell_type": "code",
   "execution_count": null,
   "metadata": {},
   "outputs": [],
   "source": [
    "def get_proxyscrape_info():\n",
    "    url = PROXYSCRAPE_URL\n",
    "    params = {\n",
    "        'request': 'proxyinfo',\n",
    "    }\n",
    "    try:\n",
    "        response = requests.get(url=url, params=params, timeout=3)\n",
    "        response.raise_for_status()\n",
    "        # convert the response to a dictionary and a list of countries\n",
    "        response = response.json()\n",
    "        write_dict_to_json_file(response, 'proxyscrape_info.json')\n",
    "        countries = response.get('countries', [])\n",
    "        return True, countries\n",
    "    except Exception as e:\n",
    "        return False, str(e)"
   ]
  },
  {
   "cell_type": "code",
   "execution_count": null,
   "metadata": {},
   "outputs": [],
   "source": [
    "def get_proxyscrape_list(country: str = 'FR'):\n",
    "    url = PROXYSCRAPE_URL\n",
    "    params = {\n",
    "        'request': 'displayproxies',\n",
    "        'protocol': 'socks5',\n",
    "        'timeout': 1000,\n",
    "        'anonymity': 'all',\n",
    "        'country': country,\n",
    "    }\n",
    "    try:\n",
    "        response = requests.get(url=url, params=params, timeout=3)\n",
    "        response.raise_for_status()\n",
    "        # convert the response to a list\n",
    "        response = response.text.strip().split('\\r\\n')\n",
    "        write_list_to_txt_file(response, f'proxyscrape_{country.lower()}.txt')\n",
    "        return True, response\n",
    "    except Exception as e:\n",
    "        return False, str(e)"
   ]
  },
  {
   "cell_type": "code",
   "execution_count": null,
   "metadata": {},
   "outputs": [],
   "source": [
    "def get_flag(country: str):\n",
    "    return countryflag.getflag([country])"
   ]
  },
  {
   "cell_type": "code",
   "execution_count": null,
   "metadata": {},
   "outputs": [],
   "source": [
    "success, countries = get_proxyscrape_info()\n",
    "print(success)\n",
    "if success:\n",
    "    print(len(countries))\n",
    "    for country in countries:\n",
    "        flag = get_flag(country)\n",
    "        print(country, flag)\n",
    "else:\n",
    "    print(countries)"
   ]
  },
  {
   "cell_type": "code",
   "execution_count": null,
   "metadata": {},
   "outputs": [],
   "source": [
    "countries_and_flags = [f'{c} {get_flag(c)}' for c in countries]\n",
    "for country_and_flag in countries_and_flags:\n",
    "    print(country_and_flag)"
   ]
  },
  {
   "cell_type": "code",
   "execution_count": null,
   "metadata": {},
   "outputs": [],
   "source": [
    "if 'FR' in countries:\n",
    "    success, proxies = get_proxyscrape_list('FR')\n",
    "    print(success)\n",
    "    if success:\n",
    "        print(len(proxies))\n",
    "        for proxy in proxies:\n",
    "            print(proxy)"
   ]
  },
  {
   "cell_type": "code",
   "execution_count": null,
   "metadata": {},
   "outputs": [],
   "source": [
    "# read table from html with pandas\n",
    "url = \"https://www.socks-proxy.net/\"\n",
    "response = requests.get(url, headers=headers)\n",
    "tables = pd.read_html(StringIO(response.text))"
   ]
  },
  {
   "cell_type": "code",
   "execution_count": null,
   "metadata": {},
   "outputs": [],
   "source": [
    "df = tables[0].astype(str)\n",
    "# filter the table by country code and socks4\n",
    "df = df[(df['Code'] == 'FR') & (df['Version'] == 'Socks4')]\n",
    "df.head(10)"
   ]
  },
  {
   "cell_type": "code",
   "execution_count": null,
   "metadata": {},
   "outputs": [],
   "source": [
    "# get the ip and port as a list of strings\n",
    "ip_port = df['IP Address'] + ':' + df['Port']"
   ]
  },
  {
   "cell_type": "code",
   "execution_count": null,
   "metadata": {},
   "outputs": [],
   "source": [
    "ip_port.to_list()"
   ]
  }
 ],
 "metadata": {
  "kernelspec": {
   "display_name": "Python 3",
   "language": "python",
   "name": "python3"
  },
  "language_info": {
   "codemirror_mode": {
    "name": "ipython",
    "version": 3
   },
   "file_extension": ".py",
   "mimetype": "text/x-python",
   "name": "python",
   "nbconvert_exporter": "python",
   "pygments_lexer": "ipython3",
   "version": "3.10.11"
  }
 },
 "nbformat": 4,
 "nbformat_minor": 2
}
