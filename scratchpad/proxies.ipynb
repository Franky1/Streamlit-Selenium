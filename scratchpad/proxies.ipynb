{
 "cells": [
  {
   "cell_type": "markdown",
   "metadata": {},
   "source": [
    "# Playground for Proxies"
   ]
  },
  {
   "cell_type": "code",
   "execution_count": null,
   "metadata": {},
   "outputs": [],
   "source": [
    "import json\n",
    "from io import StringIO\n",
    "\n",
    "import countryflag\n",
    "import pandas as pd\n",
    "import requests"
   ]
  },
  {
   "cell_type": "markdown",
   "metadata": {},
   "source": [
    "#### https://proxyscrape.com/free-proxy-list"
   ]
  },
  {
   "cell_type": "code",
   "execution_count": null,
   "metadata": {},
   "outputs": [],
   "source": [
    "PROXYSCRAPE_URL = 'https://api.proxyscrape.com/v3/free-proxy-list/get'"
   ]
  },
  {
   "cell_type": "code",
   "execution_count": null,
   "metadata": {},
   "outputs": [],
   "source": [
    "def write_dict_to_json_file(data: dict, filename: str):\n",
    "    with open(filename, mode='w', encoding='utf-8') as f:\n",
    "        json.dump(data, f, indent=4)"
   ]
  },
  {
   "cell_type": "code",
   "execution_count": null,
   "metadata": {},
   "outputs": [],
   "source": [
    "def write_list_to_txt_file(data: list, filename: str):\n",
    "    with open(filename, mode='w', encoding='utf-8') as f:\n",
    "        text = '\\n'.join(data)\n",
    "        f.write(text)"
   ]
  },
  {
   "cell_type": "code",
   "execution_count": null,
   "metadata": {},
   "outputs": [],
   "source": [
    "def get_proxyscrape_list(country: str = 'FR', protocol: str = 'socks4'):\n",
    "    url = PROXYSCRAPE_URL\n",
    "    params = {\n",
    "        'request': 'displayproxies',\n",
    "        'proxy_format' : 'protocolipport',\n",
    "        'format': 'text',\n",
    "        'protocol': protocol,\n",
    "        'timeout': 3000,\n",
    "        'anonymity': 'all',\n",
    "        'country': country,\n",
    "    }\n",
    "    try:\n",
    "        response = requests.get(url=url, params=params, timeout=3)\n",
    "        response.raise_for_status()\n",
    "        # convert the response to a list\n",
    "        response = response.text.strip().split('\\r\\n')\n",
    "        write_list_to_txt_file(response, f'proxyscrape_{country.lower()}.txt')\n",
    "        return True, response\n",
    "    except Exception as e:\n",
    "        return False, str(e)"
   ]
  },
  {
   "cell_type": "code",
   "execution_count": null,
   "metadata": {},
   "outputs": [],
   "source": [
    "def get_proxyscrape_dict(country: str, protocol: str) -> tuple:\n",
    "    params = {\n",
    "        'request': 'displayproxies',\n",
    "        'proxy_format' : 'protocolipport',\n",
    "        'format': 'json',\n",
    "        'protocol': protocol,\n",
    "        'timeout': 3000,\n",
    "        'anonymity': 'all',\n",
    "        'country': country,\n",
    "    }\n",
    "    try:\n",
    "        response = requests.get(url=PROXYSCRAPE_URL, params=params, timeout=3)\n",
    "        response.raise_for_status()\n",
    "        response = response.json()\n",
    "        # write_dict_to_json_file(response, f'proxyscrape_{country.lower()}.json')\n",
    "        return True, response\n",
    "    except Exception as e:\n",
    "        return False, str(e)"
   ]
  },
  {
   "cell_type": "code",
   "execution_count": null,
   "metadata": {
    "scrolled": true
   },
   "outputs": [],
   "source": [
    "success, proxies = get_proxyscrape_dict(country='all', protocol='socks4')\n",
    "if success:\n",
    "    df = pd.json_normalize(proxies.get('proxies')).astype(str)\n",
    "    df.to_json('proxyscrape_all.json', indent=4, orient='records')\n",
    "    if not df.empty:\n",
    "        countries = sorted(df['ip_data.countryCode'].unique().tolist())\n",
    "        print(countries)\n",
    "        print(df[['ip_data.countryCode', 'proxy']].head(10))\n",
    "else:\n",
    "    print(proxies)"
   ]
  },
  {
   "cell_type": "code",
   "execution_count": null,
   "metadata": {},
   "outputs": [],
   "source": [
    "df[['ip', 'port']].apply(lambda x: f\"{x[0]}:{x[1]}\", axis=1).tolist()"
   ]
  },
  {
   "cell_type": "code",
   "execution_count": null,
   "metadata": {},
   "outputs": [],
   "source": [
    "def get_flag(country: str):\n",
    "    return countryflag.getflag([country])"
   ]
  },
  {
   "cell_type": "code",
   "execution_count": null,
   "metadata": {},
   "outputs": [],
   "source": [
    "countries_and_flags = [f'{c} {get_flag(c)}' for c in countries]\n",
    "for country_and_flag in countries_and_flags:\n",
    "    print(country_and_flag)"
   ]
  },
  {
   "cell_type": "markdown",
   "metadata": {},
   "source": [
    "#### https://www.socks-proxy.net/"
   ]
  },
  {
   "cell_type": "code",
   "execution_count": null,
   "metadata": {},
   "outputs": [],
   "source": [
    "headers = {\n",
    "    'User-Agent': 'Mozilla/5.0 (Windows NT 10.0; Win64; x64; rv:123.0) Gecko/20100101 Firefox/123.0',\n",
    "    'Accept': 'text/html,application/xhtml+xml,application/xml;q=0.9,image/avif,image/webp,*/*;q=0.8',\n",
    "    'Accept-Language': 'de',\n",
    "    'Referer': 'https://www.socks-proxy.net/',\n",
    "    'Connection': 'keep-alive',\n",
    "    'Upgrade-Insecure-Requests': '1',\n",
    "    'Sec-Fetch-Dest': 'document',\n",
    "    'Sec-Fetch-Mode': 'navigate',\n",
    "    'Sec-Fetch-Site': 'cross-site',\n",
    "    'Sec-Fetch-User': '?1',\n",
    "    'DNT': '1',\n",
    "    'Sec-GPC': '1',\n",
    "}"
   ]
  },
  {
   "cell_type": "code",
   "execution_count": null,
   "metadata": {},
   "outputs": [],
   "source": [
    "# read table from html with pandas\n",
    "url = \"https://www.socks-proxy.net/\"\n",
    "response = requests.get(url, headers=headers)\n",
    "tables = pd.read_html(StringIO(response.text))"
   ]
  },
  {
   "cell_type": "code",
   "execution_count": null,
   "metadata": {},
   "outputs": [],
   "source": [
    "tables[0]"
   ]
  },
  {
   "cell_type": "code",
   "execution_count": null,
   "metadata": {},
   "outputs": [],
   "source": [
    "df = tables[0].astype(str)\n",
    "# filter the table by country code and socks4\n",
    "df = df[(df['Code'] == 'FR') & (df['Version'] == 'Socks4')]\n",
    "df.head(10)"
   ]
  },
  {
   "cell_type": "code",
   "execution_count": null,
   "metadata": {},
   "outputs": [],
   "source": [
    "# save pandas dataframe to json\n",
    "df.to_json('socks_proxy.json', indent=4, orient='records')"
   ]
  },
  {
   "cell_type": "markdown",
   "metadata": {},
   "source": [
    "#### https://mtpro.xyz/api-overview"
   ]
  },
  {
   "cell_type": "code",
   "execution_count": null,
   "metadata": {},
   "outputs": [],
   "source": [
    "url = \"https://mtpro.xyz/api/\"\n",
    "params = {\n",
    "    'type': 'socks'\n",
    "}\n",
    "response = requests.get(url, params=params)\n",
    "response = response.json()\n",
    "df = pd.DataFrame(response).astype(str)\n",
    "df.to_json('mtpro.json', indent=4, orient='records')\n",
    "countries = sorted(df['country'].unique().tolist())\n",
    "print(countries)\n",
    "df.head(10)"
   ]
  },
  {
   "cell_type": "code",
   "execution_count": null,
   "metadata": {},
   "outputs": [],
   "source": [
    "proxies = df[['ip', 'port']].apply(lambda x: f\"{x[0]}:{x[1]}\", axis=1).tolist()\n",
    "for p in proxies:\n",
    "    print(p)"
   ]
  },
  {
   "cell_type": "code",
   "execution_count": null,
   "metadata": {},
   "outputs": [],
   "source": []
  }
 ],
 "metadata": {
  "kernelspec": {
   "display_name": "Python 3 (ipykernel)",
   "language": "python",
   "name": "python3"
  },
  "language_info": {
   "codemirror_mode": {
    "name": "ipython",
    "version": 3
   },
   "file_extension": ".py",
   "mimetype": "text/x-python",
   "name": "python",
   "nbconvert_exporter": "python",
   "pygments_lexer": "ipython3",
   "version": "3.9.10"
  }
 },
 "nbformat": 4,
 "nbformat_minor": 4
}
